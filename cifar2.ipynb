{
 "cells": [
  {
   "cell_type": "code",
   "execution_count": 1,
   "metadata": {},
   "outputs": [],
   "source": [
    "import numpy as np\n",
    "import torch\n",
    "import torch.nn as nn\n",
    "import torch.optim as optim\n",
    "import matplotlib.pyplot as plt"
   ]
  },
  {
   "cell_type": "code",
   "execution_count": 2,
   "metadata": {},
   "outputs": [
    {
     "name": "stdout",
     "output_type": "stream",
     "text": [
      "Files already downloaded and verified\n",
      "Files already downloaded and verified\n"
     ]
    }
   ],
   "source": [
    "from torchvision import datasets\n",
    "from torchvision import transforms\n",
    "\n",
    "data_path = './data/'\n",
    "cifar10 = datasets.CIFAR10(data_path, train=True, download=True, transform=transforms.ToTensor())\n",
    "cifar10_validation = datasets.CIFAR10(data_path, train=False, download=True, transform=transforms.ToTensor())\n",
    "\n",
    "label_names = [\"airplane\", \"automobile\", \"bird\", \"cat\", \"deer\", \"dog\", \"frog\", \"horse\", \"ship\", \"truck\"]"
   ]
  },
  {
   "cell_type": "code",
   "execution_count": 3,
   "metadata": {},
   "outputs": [],
   "source": [
    "label_map = {0:0, 3:1}\n",
    "class_names = ['airplane', 'cat']\n",
    "cifar2 = [(img, label_map[label]) for img, label in cifar10 if label in [0,3]]\n",
    "cifar2_validation = [(img, label_map[label]) for img, label in cifar10_validation if label in [0,3]]"
   ]
  },
  {
   "cell_type": "code",
   "execution_count": 23,
   "metadata": {},
   "outputs": [
    {
     "data": {
      "image/png": "[encoded data removed]",
      "text/plain": [
       "<Figure size 432x288 with 1 Axes>"
      ]
     },
     "metadata": {
      "needs_background": "light"
     },
     "output_type": "display_data"
    },
    {
     "name": "stdout",
     "output_type": "stream",
     "text": [
      "cat\n"
     ]
    }
   ],
   "source": [
    "img, label = cifar2[10]\n",
    "plt.imshow(img.permute(1,2,0))\n",
    "plt.show()\n",
    "print(class_names[label])"
   ]
  },
  {
   "cell_type": "code",
   "execution_count": 36,
   "metadata": {},
   "outputs": [],
   "source": [
    "import torch.nn.functional as F\n",
    "\n",
    "class ResBlockPlain(nn.Module):\n",
    "    def __init__(self, input_channels, channel_factor=1, stride=1):\n",
    "        super().__init__()\n",
    "        self.channel_factor = channel_factor\n",
    "        self.stride = stride\n",
    "\n",
    "        out_channels = input_channels * channel_factor\n",
    "        self.conv1 = nn.Conv2d(\n",
    "            input_channels,\n",
    "            out_channels,\n",
    "            kernel_size=3, padding=1, stride=stride\n",
    "        )\n",
    "        self.conv2 = nn.Conv2d(\n",
    "            out_channels,\n",
    "            out_channels,\n",
    "            kernel_size=3, padding=1, stride=1\n",
    "        )\n",
    "        torch.nn.init.kaiming_normal_(self.conv1.weight, nonlinearity=\"relu\")\n",
    "        torch.nn.init.kaiming_normal_(self.conv2.weight, nonlinearity=\"relu\")\n",
    "\n",
    "        if stride != 1:\n",
    "            self.downsample = nn.MaxPool2d(stride,stride)\n",
    "        if channel_factor != 1:\n",
    "            self.cut = self.shortcut(input_channels, out_channels)\n",
    "\n",
    "    def forward(self, x):\n",
    "        out = self.conv1(x)\n",
    "        out = F.relu(out)\n",
    "        out = self.conv2(out)\n",
    "        if self.stride != 1:\n",
    "            x = self.downsample(x)\n",
    "        if self.channel_factor != 1:\n",
    "            x = self.cut(x)\n",
    "        out += x\n",
    "        out = F.relu(out)\n",
    "        return out\n",
    "\n",
    "    def shortcut(self, input_channels, output_channels):\n",
    "        return nn.Conv2d(input_channels, output_channels, kernel_size=1, padding=0)\n",
    "\n",
    "\n",
    "class ResBlock(nn.Module):\n",
    "    def __init__(self, input_channels, channel_factor, stride=1):\n",
    "        super(ResBlock, self).__init__()\n",
    "\n",
    "        self.channel_factor = channel_factor\n",
    "        self.stride = stride\n",
    "\n",
    "        first_out_channels = input_channels * channel_factor // 4\n",
    "\n",
    "        self.conv1 = nn.Conv2d(\n",
    "            input_channels, \n",
    "            first_out_channels,\n",
    "            kernel_size=1, padding=0, stride=1\n",
    "        )\n",
    "        self.bn1 = nn.BatchNorm2d(first_out_channels)\n",
    "\n",
    "        self.conv2 = nn.Conv2d(\n",
    "            first_out_channels, \n",
    "            first_out_channels,\n",
    "            kernel_size=3, padding=1, stride=stride\n",
    "        )\n",
    "        self.bn2 = nn.BatchNorm2d(first_out_channels)\n",
    "\n",
    "        self.conv3 = nn.Conv2d(\n",
    "            first_out_channels, \n",
    "            first_out_channels * 4,\n",
    "            kernel_size=1, padding=0, stride=1\n",
    "        )\n",
    "        self.bn3 = nn.BatchNorm2d(first_out_channels * 4)\n",
    "\n",
    "        self.downsample = nn.AvgPool2d(kernel_size=1, stride=stride)\n",
    "\n",
    "        torch.nn.init.kaiming_normal_(self.conv1.weight, nonlinearity=\"relu\")\n",
    "        torch.nn.init.kaiming_normal_(self.conv2.weight, nonlinearity=\"relu\")\n",
    "        torch.nn.init.kaiming_normal_(self.conv3.weight, nonlinearity=\"relu\")\n",
    "        torch.nn.init.zeros_(self.bn1.bias)\n",
    "        torch.nn.init.zeros_(self.bn2.bias)\n",
    "        torch.nn.init.zeros_(self.bn3.bias)\n",
    "\n",
    "    def forward(self, x):\n",
    "        out = self.conv1(x)\n",
    "        out = self.bn1(out)\n",
    "        out = F.relu(out)\n",
    "        out = self.conv2(out)\n",
    "        out = self.bn2(out)\n",
    "        out = F.relu(out)\n",
    "        out = self.conv3(out)\n",
    "        out = self.bn3(out)\n",
    "\n",
    "        if self.channel_factor > 1:\n",
    "            mapping = torch.zeros_like(out)\n",
    "            mapping[:,:x.shape[1],:,:] = self.downsample(x)\n",
    "            out += mapping\n",
    "        else:\n",
    "            out += x\n",
    "\n",
    "        out = F.relu(out)\n",
    "\n",
    "        return out\n",
    "\n",
    "\n",
    "class NetResDeep(nn.Module):\n",
    "    def __init__(self):\n",
    "        super().__init__()\n",
    "        # self.pool1 = nn.MaxPool2d(2,2)\n",
    "        self.conv1 = nn.Conv2d(3, 32, kernel_size=3, padding=1, stride=2)\n",
    "        self.resblocks1 = nn.Sequential(\n",
    "            *(6 * [ResBlockPlain(32)])\n",
    "        )\n",
    "        self.resblocks2 = ResBlockPlain(32, 2, stride=2)\n",
    "        self.resblocks3 = nn.Sequential(\n",
    "            *(8 * [ResBlockPlain(64, 1)])\n",
    "        )\n",
    "        self.resblocks4 = ResBlockPlain(64, 2, stride=2)\n",
    "        self.resblocks5 = nn.Sequential(\n",
    "            *(8 * [ResBlockPlain(128, 1)])\n",
    "        )\n",
    "        self.fc1 = nn.Linear(4*4*128, 128)\n",
    "        self.fc2 = nn.Linear(128, 2)\n",
    "\n",
    "    def forward(self, x):\n",
    "        out = self.conv1(x)\n",
    "        out = F.relu(out)\n",
    "        # out = self.pool1(out)\n",
    "        # out = F.max_pool2d(out, 2)\n",
    "        out = self.resblocks1(out)\n",
    "        out = self.resblocks2(out)\n",
    "        out = self.resblocks3(out)\n",
    "        out = self.resblocks4(out)\n",
    "        out = self.resblocks5(out)\n",
    "        flatten = nn.Flatten()\n",
    "        out = flatten(out)\n",
    "        out = self.fc1(out)\n",
    "        out = F.relu(out)\n",
    "        out = self.fc2(out)\n",
    "        return out"
   ]
  },
  {
   "cell_type": "code",
   "execution_count": 5,
   "metadata": {},
   "outputs": [
    {
     "data": {
      "text/plain": [
       "device(type='cuda')"
      ]
     },
     "execution_count": 5,
     "metadata": {},
     "output_type": "execute_result"
    }
   ],
   "source": [
    "device = (torch.device(\"cuda\") if torch.cuda.is_available() else torch.device(\"cpu\"))\n",
    "device"
   ]
  },
  {
   "cell_type": "code",
   "execution_count": 6,
   "metadata": {},
   "outputs": [],
   "source": [
    "import datetime\n",
    "\n",
    "def training_loop(n_epochs: int, optimizer, model, loss_fn, train_loader, validate_loader):\n",
    "    for epoch in range(1, n_epochs + 1):\n",
    "        loss_train = 0.0\n",
    "        for imgs, labels in train_loader:\n",
    "            imgs = imgs.to(device=device)\n",
    "            labels = labels.to(device=device)\n",
    "            outputs = model(imgs)\n",
    "            loss = loss_fn(outputs, labels)\n",
    "            optimizer.zero_grad()\n",
    "            loss.backward()\n",
    "            optimizer.step()\n",
    "            loss_train += loss.item()\n",
    "\n",
    "        if epoch == 1 or epoch % 5 == 0:\n",
    "\n",
    "            print(f\"{datetime.datetime.now()} Epoch {epoch}: Training loss {loss_train / len(train_loader)}\")\n",
    "            validate(model, train_loader, validate_loader)\n",
    "\n",
    "def validate(model, train_loader, validate_loader):\n",
    "    model.eval()\n",
    "    for name, loader in [(\"train\", train_loader), (\"val\", validate_loader)]:\n",
    "        correct = 0\n",
    "        total = 0\n",
    "        with torch.no_grad():\n",
    "            for imgs, labels in loader:\n",
    "                imgs = imgs.to(device=device)\n",
    "                labels = labels\n",
    "                outputs = model(imgs).cpu()\n",
    "                predicted = np.argmax(outputs.numpy(), axis=1)\n",
    "                total += labels.shape[0]\n",
    "\n",
    "                correct += int((predicted == labels.numpy()).sum())\n",
    "\n",
    "            print(f\"{name} acc: {correct / total:.3f}\")\n",
    "    model.train()"
   ]
  },
  {
   "cell_type": "code",
   "execution_count": 37,
   "metadata": {},
   "outputs": [
    {
     "name": "stdout",
     "output_type": "stream",
     "text": [
      "2022-05-16 03:37:14.805626 Epoch 1: Training loss 177.347396504879\n",
      "train acc: 0.652\n",
      "val acc: 0.652\n",
      "2022-05-16 03:37:21.476997 Epoch 5: Training loss 0.40984014198184016\n",
      "train acc: 0.831\n",
      "val acc: 0.827\n",
      "2022-05-16 03:37:29.734540 Epoch 10: Training loss 0.3345222719013691\n",
      "train acc: 0.856\n",
      "val acc: 0.838\n",
      "2022-05-16 03:37:38.006441 Epoch 15: Training loss 0.27099907025694847\n",
      "train acc: 0.903\n",
      "val acc: 0.849\n",
      "2022-05-16 03:37:46.249940 Epoch 20: Training loss 0.23350703790783883\n",
      "train acc: 0.926\n",
      "val acc: 0.856\n",
      "2022-05-16 03:37:54.567007 Epoch 25: Training loss 0.20084048695862294\n",
      "train acc: 0.928\n",
      "val acc: 0.856\n",
      "2022-05-16 03:38:02.788665 Epoch 30: Training loss 0.18028815612196922\n",
      "train acc: 0.944\n",
      "val acc: 0.860\n",
      "2022-05-16 03:38:11.000281 Epoch 35: Training loss 0.1882568622007966\n",
      "train acc: 0.957\n",
      "val acc: 0.859\n",
      "2022-05-16 03:38:19.251253 Epoch 40: Training loss 0.0938527244143188\n",
      "train acc: 0.941\n",
      "val acc: 0.845\n",
      "2022-05-16 03:38:27.510642 Epoch 45: Training loss 0.041305905138142404\n",
      "train acc: 0.913\n",
      "val acc: 0.821\n",
      "2022-05-16 03:38:35.711420 Epoch 50: Training loss 0.07163531666737981\n",
      "train acc: 0.948\n",
      "val acc: 0.843\n"
     ]
    }
   ],
   "source": [
    "train_loader = torch.utils.data.DataLoader(cifar2, batch_size=256, shuffle=True)\n",
    "validate_loader = torch.utils.data.DataLoader(cifar2_validation, batch_size=256, shuffle=False)\n",
    "\n",
    "model = NetResDeep().to(device=device)\n",
    "if device == \"cuda\":\n",
    "    model = torch.nn.DataParallel(model)\n",
    "# model = Net().to(device=device)\n",
    "# model.load_state_dict(torch.load(data_path + \"cifar2_res.pt\"))\n",
    "optimizer = optim.Adam(model.parameters())\n",
    "loss_fn = nn.CrossEntropyLoss()\n",
    "\n",
    "training_loop(\n",
    "    n_epochs=50,\n",
    "    optimizer=optimizer,\n",
    "    model=model,\n",
    "    loss_fn=loss_fn,\n",
    "    train_loader=train_loader,\n",
    "    validate_loader=validate_loader\n",
    ")\n",
    "\n",
    "torch.save(model.state_dict(), data_path + \"cifar2_res.pt\")"
   ]
  },
  {
   "cell_type": "code",
   "execution_count": null,
   "metadata": {},
   "outputs": [],
   "source": []
  }
 ],
 "metadata": {
  "interpreter": {
   "hash": "d4d1e4263499bec80672ea0156c357c1ee493ec2b1c70f0acce89fc37c4a6abe"
  },
  "kernelspec": {
   "display_name": "Python 3.8.8 ('base')",
   "language": "python",
   "name": "python3"
  },
  "language_info": {
   "codemirror_mode": {
    "name": "ipython",
    "version": 3
   },
   "file_extension": ".py",
   "mimetype": "text/x-python",
   "name": "python",
   "nbconvert_exporter": "python",
   "pygments_lexer": "ipython3",
   "version": "3.8.8"
  },
  "orig_nbformat": 4
 },
 "nbformat": 4,
 "nbformat_minor": 2
}
